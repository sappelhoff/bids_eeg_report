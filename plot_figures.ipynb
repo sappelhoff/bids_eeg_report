{
 "cells": [
  {
   "cell_type": "markdown",
   "metadata": {},
   "source": [
    "# Plotting Figures for the BIDS BEP_006 EEG Report"
   ]
  },
  {
   "cell_type": "code",
   "execution_count": null,
   "metadata": {
    "ExecuteTime": {
     "end_time": "2018-08-28T16:35:33.908026Z",
     "start_time": "2018-08-28T16:35:33.168963Z"
    }
   },
   "outputs": [],
   "source": [
    "import os\n",
    "\n",
    "from tqdm import tqdm\n",
    "import metapub\n",
    "\n",
    "import pandas as pd\n",
    "\n",
    "%matplotlib inline\n",
    "import seaborn as sns\n",
    "import matplotlib.pyplot as plt"
   ]
  },
  {
   "cell_type": "markdown",
   "metadata": {},
   "source": [
    "# Get PubMed search results"
   ]
  },
  {
   "cell_type": "code",
   "execution_count": null,
   "metadata": {
    "ExecuteTime": {
     "end_time": "2018-08-28T16:35:33.913406Z",
     "start_time": "2018-08-28T16:35:33.909540Z"
    }
   },
   "outputs": [],
   "source": [
    "# Use metapub package to search PubMed\n",
    "fetch = metapub.PubMedFetcher()\n",
    "\n",
    "# Our query and range of years\n",
    "query = 'EEG[Title/Abstract]'\n",
    "years = range(1930, 2018)"
   ]
  },
  {
   "cell_type": "code",
   "execution_count": null,
   "metadata": {
    "ExecuteTime": {
     "end_time": "2018-08-28T16:37:00.732483Z",
     "start_time": "2018-08-28T16:35:34.075818Z"
    }
   },
   "outputs": [],
   "source": [
    "# For each year, get all articles and save\n",
    "data = list()\n",
    "for year in tqdm(years):\n",
    "    pmids = fetch.pmids_for_query(query, since=year, until=year, retmax=int(1e6))\n",
    "    n_articles = len(pmids)\n",
    "    data.append([year, n_articles])"
   ]
  },
  {
   "cell_type": "code",
   "execution_count": null,
   "metadata": {
    "ExecuteTime": {
     "end_time": "2018-08-28T16:37:00.745978Z",
     "start_time": "2018-08-28T16:37:00.738319Z"
    }
   },
   "outputs": [],
   "source": [
    "# Format as data frame\n",
    "df = pd.DataFrame(data, columns=['year', 'count'])"
   ]
  },
  {
   "cell_type": "markdown",
   "metadata": {},
   "source": [
    "## Figure showing PubMed search results"
   ]
  },
  {
   "cell_type": "code",
   "execution_count": null,
   "metadata": {
    "ExecuteTime": {
     "end_time": "2018-08-28T16:37:01.553492Z",
     "start_time": "2018-08-28T16:37:00.748545Z"
    }
   },
   "outputs": [],
   "source": [
    "# Set the context and start a new figure\n",
    "sns.set_style('ticks')\n",
    "sns.set_context('paper', font_scale=2.)\n",
    "\n",
    "fig, ax = plt.subplots(1, 1, figsize=(6.5, 3))\n",
    "\n",
    "# Plot data and regression fit\n",
    "sns.regplot(x='year', y='count', data=df, ax=ax,\n",
    "            fit_reg=True, order=5, ci=None, truncate=False,\n",
    "            scatter_kws={'color': 'cornflowerblue'},\n",
    "            line_kws={'color': 'crimson'})\n",
    "\n",
    "# Labels\n",
    "ax.set_xlabel('Year')\n",
    "ax.set_ylabel('Count')\n",
    "#ax.set_title('Number of Publications Containing \"EEG\" in Title or Abstract')\n",
    "\n",
    "# Get rid of spines\n",
    "sns.despine()\n",
    "\n",
    "# Save figure\n",
    "fname = 'fig_pubmed_results.png'\n",
    "fpath = os.path.join(os.getcwd(), 'figures', fname)\n",
    "fig.savefig(fpath, dpi=600, bbox_inches='tight')"
   ]
  },
  {
   "cell_type": "code",
   "execution_count": null,
   "metadata": {},
   "outputs": [],
   "source": []
  }
 ],
 "metadata": {
  "kernelspec": {
   "display_name": "Python 3",
   "language": "python",
   "name": "python3"
  },
  "language_info": {
   "codemirror_mode": {
    "name": "ipython",
    "version": 3
   },
   "file_extension": ".py",
   "mimetype": "text/x-python",
   "name": "python",
   "nbconvert_exporter": "python",
   "pygments_lexer": "ipython3",
   "version": "3.6.6"
  }
 },
 "nbformat": 4,
 "nbformat_minor": 2
}
